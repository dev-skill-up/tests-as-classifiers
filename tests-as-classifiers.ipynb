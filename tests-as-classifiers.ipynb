{
 "cells": [
  {
   "cell_type": "markdown",
   "metadata": {},
   "source": [
    "```{=latex}\n",
    "\\usepackage{hyperref}\n",
    "\\usepackage{graphicx}\n",
    "\\usepackage{listings}\n",
    "\\usepackage{textcomp}\n",
    "\\usepackage{fancyvrb}\n",
    "\n",
    "\\newcommand{\\passthrough}[1]{\\lstset{mathescape=false}#1\\lstset{mathescape=true}}\n",
    "\\newcommand{\\tightlist}{}\n",
    "```"
   ]
  },
  {
   "cell_type": "markdown",
   "metadata": {},
   "source": [
    "```{=latex}\n",
    "\\title{Tests as Classifiers}\n",
    "\\author{Moshe Zadka -- https://cobordism.com}\n",
    "\\date{}\n",
    "\n",
    "\\begin{document}\n",
    "\\begin{titlepage}\n",
    "\\maketitle\n",
    "\\end{titlepage}\n",
    "\n",
    "\\frame{\\titlepage}\n",
    "```"
   ]
  },
  {
   "cell_type": "markdown",
   "metadata": {},
   "source": [
    "```{=latex}\n",
    "\\begin{frame}\n",
    "\\frametitle{Acknowledgement of Country}\n",
    "\n",
    "Belmont (in San Francisco Bay Area Peninsula)\n",
    "\n",
    "Ancestral homeland of the Ramaytush Ohlone\n",
    "\n",
    "\\end{frame}\n",
    "```\n",
    "\n",
    "## Introduction\n",
    "\n",
    "### What is a classifer?\n",
    "\n",
    "### How can classifiers fail?\n",
    "\n",
    "### What makes tests be classifiers?\n",
    "\n",
    "## Scoring classifiers\n",
    "\n",
    "### Precision\n",
    "\n",
    "### Recall\n",
    "\n",
    "### F-score\n",
    "\n",
    "### Choosing the beta\n",
    "\n",
    "## Applications to tests\n",
    "\n",
    "### False Alarm: Flakey test\n",
    "\n",
    "### False Alarm: Testing implementation details\n",
    "\n",
    "### Missing Alarm: Non-covered Code\n",
    "\n",
    "### Missing Alarm: Loose Assertion\n",
    "\n",
    "## Measuring tests\n",
    "\n",
    "### Measuring Flakiness: Running on dry\n",
    "\n",
    "### Measuring Implementation Details: Changed tests\n",
    "\n",
    "### Measuring Coverage\n",
    "\n",
    "### Measuring Mutations\n",
    "\n",
    "### Measuring Late-detected bugs\n",
    "\n",
    "### Consolidating into an F score\n",
    "\n",
    "## Improving tests\n",
    "\n",
    "### Avoiding flakiness: System isolation\n",
    "\n",
    "### Avoiding implementation details: Testing to the contract\n",
    "\n",
    "### Coverage enforcement\n",
    "\n",
    "### Mutation testing\n",
    "\n",
    "## Summary\n",
    "\n",
    "### Tests are for stopping bugs\n",
    "\n",
    "### Decide on a trade-off\n",
    "\n",
    "### Measure the quality\n",
    "\n",
    "### Improve the quality"
   ]
  },
  {
   "cell_type": "markdown",
   "metadata": {},
   "source": [
    "```{=latex}\n",
    "\\end{document}\n",
    "```"
   ]
  }
 ],
 "metadata": {
  "kernelspec": {
   "display_name": "Python 3",
   "language": "python",
   "name": "python3"
  },
  "language_info": {
   "codemirror_mode": {
    "name": "ipython",
    "version": 3
   },
   "file_extension": ".py",
   "mimetype": "text/x-python",
   "name": "python",
   "nbconvert_exporter": "python",
   "pygments_lexer": "ipython3",
   "version": "3.9.0"
  }
 },
 "nbformat": 4,
 "nbformat_minor": 4
}
