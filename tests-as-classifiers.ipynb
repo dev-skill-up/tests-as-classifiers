{
 "cells": [
  {
   "cell_type": "markdown",
   "metadata": {},
   "source": [
    "```{=latex}\n",
    "\\usepackage{hyperref}\n",
    "\\usepackage{graphicx}\n",
    "\\usepackage{listings}\n",
    "\\usepackage{textcomp}\n",
    "\\usepackage{fancyvrb}\n",
    "\n",
    "\\newcommand{\\passthrough}[1]{\\lstset{mathescape=false}#1\\lstset{mathescape=true}}\n",
    "\\newcommand{\\tightlist}{}\n",
    "```"
   ]
  },
  {
   "cell_type": "markdown",
   "metadata": {},
   "source": [
    "```{=latex}\n",
    "\\title{Tests as Classifiers}\n",
    "\\author{Moshe Zadka -- https://cobordism.com}\n",
    "\\date{}\n",
    "\n",
    "\\begin{document}\n",
    "\\begin{titlepage}\n",
    "\\maketitle\n",
    "\\end{titlepage}\n",
    "\n",
    "\\frame{\\titlepage}\n",
    "```"
   ]
  },
  {
   "cell_type": "markdown",
   "metadata": {},
   "source": [
    "```{=latex}\n",
    "\\begin{frame}\n",
    "\\frametitle{Acknowledgement of Country}\n",
    "\n",
    "Belmont (in San Francisco Bay Area Peninsula)\n",
    "\n",
    "Ancestral homeland of the Ramaytush Ohlone\n",
    "\n",
    "\\end{frame}\n",
    "```"
   ]
  },
  {
   "cell_type": "markdown",
   "metadata": {},
   "source": [
    "## Introduction"
   ]
  },
  {
   "cell_type": "markdown",
   "metadata": {},
   "source": [
    "### What is a classifer?"
   ]
  },
  {
   "cell_type": "markdown",
   "metadata": {},
   "source": [
    "```{=latex}\n",
    "\\begin{frame}\n",
    "\\frametitle{What is a classifier?}\n",
    "\n",
    "Input: Something \\pause\n",
    "\n",
    "Output: True/False \\pause\n",
    "\n",
    "Belongs to set / Does not belong to set\n",
    "\n",
    "\\end{frame}\n",
    "```"
   ]
  },
  {
   "cell_type": "markdown",
   "metadata": {},
   "source": [
    "```{=latex}\n",
    "\\begin{frame}\n",
    "\\frametitle{Classifier example: chihuahua or muffin}\n",
    "\n",
    "Input: Image of chihuahua or muffin \\pause\n",
    "\n",
    "Output: Is it a dog?\n",
    "\n",
    "\\end{frame}\n",
    "```"
   ]
  },
  {
   "cell_type": "markdown",
   "metadata": {},
   "source": [
    "### How can classifiers fail?"
   ]
  },
  {
   "cell_type": "markdown",
   "metadata": {},
   "source": [
    "```{=latex}\n",
    "\\begin{frame}\n",
    "\\frametitle{Classifier failure: False alarm}\n",
    "\n",
    "Classifier says \"yes\", should say \"no\"\n",
    "\n",
    "Example: Picture of muffin, classifier says \"dog\"\n",
    "\n",
    "\\end{frame}\n",
    "```"
   ]
  },
  {
   "cell_type": "markdown",
   "metadata": {},
   "source": [
    "```{=latex}\n",
    "\\begin{frame}\n",
    "\\frametitle{Classifier failure: Missing alarm}\n",
    "\n",
    "Classifier says \"no\", should say \"yes\"\n",
    "\n",
    "Example: Picture of dog, classifier says \"muffin\"\n",
    "\n",
    "\\end{frame}\n",
    "```"
   ]
  },
  {
   "cell_type": "markdown",
   "metadata": {},
   "source": [
    "### What makes tests be classifiers?"
   ]
  },
  {
   "cell_type": "markdown",
   "metadata": {},
   "source": [
    "```{=latex}\n",
    "\\begin{frame}\n",
    "\\frametitle{Test (suites) as classifiers}\n",
    "\n",
    "Input: Code change\n",
    "\n",
    "Output: Is the code buggy?\n",
    "\n",
    "\\end{frame}\n",
    "```"
   ]
  },
  {
   "cell_type": "markdown",
   "metadata": {},
   "source": [
    "```{=latex}\n",
    "\\begin{frame}\n",
    "\\frametitle{Test (suites) as classifiers}\n",
    "\n",
    "Tests suite failure: \"Code buggy\"\n",
    "\n",
    "Test suite success: \"Code not buggy\"\n",
    "\n",
    "\\end{frame}\n",
    "```"
   ]
  },
  {
   "cell_type": "markdown",
   "metadata": {
    "tags": []
   },
   "source": [
    "## Scoring classifiers"
   ]
  },
  {
   "cell_type": "markdown",
   "metadata": {},
   "source": [
    "```{=latex}\n",
    "\\begin{frame}\n",
    "\\frametitle{Simple classifiers}\n",
    "\n",
    "Always alarm: \"Yes\" regardless of input\n",
    "\n",
    "Never alarm: \"No\" regardless of input\n",
    "\n",
    "\\end{frame}\n",
    "```"
   ]
  },
  {
   "cell_type": "markdown",
   "metadata": {},
   "source": [
    "```{=latex}\n",
    "\\begin{frame}[fragile]\n",
    "\\frametitle{Always alarm: a test}\n",
    "\n",
    "\n",
    "\\begin{verbatim}\n",
    "def test_always_alarm():\n",
    "    assert 1 == 0\n",
    "\\end{verbatim}\n",
    "\n",
    "\\end{frame}\n",
    "```"
   ]
  },
  {
   "cell_type": "markdown",
   "metadata": {},
   "source": [
    "```{=latex}\n",
    "\\begin{frame}[fragile]\n",
    "\\frametitle{Never alarm: a test suite}\n",
    "\n",
    "\n",
    "\\begin{verbatim}\n",
    "# Empty file\n",
    "\\end{verbatim}\n",
    "\n",
    "\\end{frame}\n",
    "```"
   ]
  },
  {
   "cell_type": "markdown",
   "metadata": {},
   "source": [
    "```{=latex}\n",
    "\\begin{frame}[fragile]\n",
    "\\frametitle{Why not simple classifiers?}\n",
    "\n",
    "Writing tests is hard work! \\pause\n",
    "\n",
    "Can we quantify the value?\n",
    "\n",
    "\\end{frame}\n",
    "```"
   ]
  },
  {
   "cell_type": "markdown",
   "metadata": {
    "tags": []
   },
   "source": [
    "### Precision"
   ]
  },
  {
   "cell_type": "markdown",
   "metadata": {},
   "source": [
    "```{=latex}\n",
    "\\begin{frame}[fragile]\n",
    "\\frametitle{Precision}\n",
    "\n",
    "Rewards not alarming:\n",
    "\n",
    "\\begin{verbatim}\n",
    "precision = true_alarms / (true_alarms + false_alarms)\n",
    "\\end{verbatim}\n",
    "\n",
    "\\end{frame}\n",
    "```"
   ]
  },
  {
   "cell_type": "markdown",
   "metadata": {},
   "source": [
    "### Recall"
   ]
  },
  {
   "cell_type": "markdown",
   "metadata": {},
   "source": [
    "```{=latex}\n",
    "\\begin{frame}[fragile]\n",
    "\\frametitle{Recall}\n",
    "\n",
    "Rewards alarming:\n",
    "\n",
    "\\begin{verbatim}\n",
    "recall = true_alarms / (true_alarms + missing_alarms)\n",
    "\\end{verbatim}\n",
    "\n",
    "\\end{frame}\n",
    "```"
   ]
  },
  {
   "cell_type": "markdown",
   "metadata": {},
   "source": [
    "### F-score"
   ]
  },
  {
   "cell_type": "markdown",
   "metadata": {},
   "source": [
    "```{=latex}\n",
    "\\begin{frame}[fragile]\n",
    "\\frametitle{Balancing Precision and Recall: F score}\n",
    "\n",
    "Harmonic mean:\n",
    "\n",
    "\\begin{verbatim}\n",
    "precision_inv = 1 / precision\n",
    "recall_inv = 1 / recall\n",
    "mean_inv = (precision_inv + recall_inv) / 2\n",
    "f_score = 1 / mean_inv\n",
    "precision = true_alarms / (true_alarms + missing_alarms)\n",
    "\\end{verbatim}\n",
    "\n",
    "\\end{frame}\n",
    "```"
   ]
  },
  {
   "cell_type": "markdown",
   "metadata": {},
   "source": [
    "```{=latex}\n",
    "\\begin{frame}[fragile]\n",
    "\\frametitle{Balancing Precision and Recall: F beta score}\n",
    "\n",
    "What if it's not equally important? \\pause\n",
    "\n",
    "\\begin{verbatim}\n",
    "precision_inv = 1 / precision\n",
    "recall_inv = 1 / recall\n",
    "mean_inv = (\n",
    "    (beta ** 2 * precision_inv + recall_inv)\n",
    "    / \n",
    "    (beta ** 2 + 1)\n",
    "f_beta_score = 1 / mean_inv\n",
    "precision = true_alarms / (true_alarms + missing_alarms)\n",
    "\\end{verbatim}\n",
    "\n",
    "\\end{frame}\n",
    "```"
   ]
  },
  {
   "cell_type": "markdown",
   "metadata": {},
   "source": [
    "```{=latex}\n",
    "\\begin{frame}[fragile]\n",
    "\\frametitle{Balancing Precision and Recall: Who is beta?}\n",
    "\n",
    "F score is F beta score when beta is 1 \\pause\n",
    "\n",
    "The \"beta\" parameter encodes utility:\n",
    "which error hurts harder? \\pause\n",
    "\n",
    "A business decision!\n",
    "\\end{frame}\n",
    "```"
   ]
  },
  {
   "cell_type": "markdown",
   "metadata": {
    "tags": []
   },
   "source": [
    "### Choosing the beta"
   ]
  },
  {
   "cell_type": "markdown",
   "metadata": {},
   "source": [
    "```{=latex}\n",
    "\\begin{frame}[fragile]\n",
    "\\frametitle{Balancing Precision and Recall: Who is beta?}\n",
    "\n",
    "F score is F beta score when beta is 1 \\pause\n",
    "\n",
    "The \"beta\" parameter encodes utility:\n",
    "which error hurts harder? \\pause\n",
    "\n",
    "A business decision!\n",
    "\\end{frame}\n",
    "```"
   ]
  },
  {
   "cell_type": "markdown",
   "metadata": {},
   "source": [
    "```{=latex}\n",
    "\\begin{frame}[fragile]\n",
    "\\frametitle{Beta: a Meaning}\n",
    "\n",
    "Beta is 2: Missing alarms are twice as painful as false alarms \\pause\n",
    "\n",
    "Beta is 0.5: Missing alarms are half as painful as false alarms\n",
    "\n",
    "\\end{frame}\n",
    "```"
   ]
  },
  {
   "cell_type": "markdown",
   "metadata": {},
   "source": [
    "## Applications to tests\n",
    "\n",
    "### False Alarm: Flakey test\n",
    "\n",
    "### False Alarm: Testing implementation details\n",
    "\n",
    "### Missing Alarm: Non-covered Code\n",
    "\n",
    "### Missing Alarm: Loose Assertion\n",
    "\n",
    "## Measuring tests\n",
    "\n",
    "### Measuring Flakiness: Running on dry\n",
    "\n",
    "### Measuring Implementation Details: Changed tests\n",
    "\n",
    "### Measuring Coverage\n",
    "\n",
    "### Measuring Mutations\n",
    "\n",
    "### Measuring Late-detected bugs\n",
    "\n",
    "### Consolidating into an F score\n",
    "\n",
    "## Improving tests\n",
    "\n",
    "### Avoiding flakiness: System isolation\n",
    "\n",
    "### Avoiding implementation details: Testing to the contract\n",
    "\n",
    "### Coverage enforcement\n",
    "\n",
    "### Mutation testing\n",
    "\n",
    "## Summary\n",
    "\n",
    "### Tests are for stopping bugs\n",
    "\n",
    "### Decide on a trade-off\n",
    "\n",
    "### Measure the quality\n",
    "\n",
    "### Improve the quality"
   ]
  },
  {
   "cell_type": "markdown",
   "metadata": {},
   "source": [
    "```{=latex}\n",
    "\\end{document}\n",
    "```"
   ]
  }
 ],
 "metadata": {
  "kernelspec": {
   "display_name": "Python 3 (ipykernel)",
   "language": "python",
   "name": "python3"
  },
  "language_info": {
   "codemirror_mode": {
    "name": "ipython",
    "version": 3
   },
   "file_extension": ".py",
   "mimetype": "text/x-python",
   "name": "python",
   "nbconvert_exporter": "python",
   "pygments_lexer": "ipython3",
   "version": "3.10.1"
  }
 },
 "nbformat": 4,
 "nbformat_minor": 4
}
